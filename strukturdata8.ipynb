{
  "nbformat": 4,
  "nbformat_minor": 0,
  "metadata": {
    "colab": {
      "provenance": [],
      "authorship_tag": "ABX9TyP2dXrgJ3U1XnbzTqMogs3D",
      "include_colab_link": true
    },
    "kernelspec": {
      "name": "python3",
      "display_name": "Python 3"
    },
    "language_info": {
      "name": "python"
    }
  },
  "cells": [
    {
      "cell_type": "markdown",
      "metadata": {
        "id": "view-in-github",
        "colab_type": "text"
      },
      "source": [
        "<a href=\"https://colab.research.google.com/github/LikaAlfi/strukdat-latihan8/blob/main/strukturdata8.ipynb\" target=\"_parent\"><img src=\"https://colab.research.google.com/assets/colab-badge.svg\" alt=\"Open In Colab\"/></a>"
      ]
    },
    {
      "cell_type": "code",
      "source": [
        "# Membuat graf tak berarah menggunakan adjacency list\n",
        "graph = {\n",
        "    'A': ['B', 'C'],\n",
        "    'B': ['A', 'D', 'E'],\n",
        "    'C': ['A', 'F'],\n",
        "    'D': ['B'],\n",
        "    'E': ['B', 'F'],\n",
        "    'F': ['C', 'E']\n",
        "}\n",
        "\n",
        "# Menampilkan graf\n",
        "def print_graph(graf):\n",
        "  for node in graf:\n",
        "    print(f\"{node} -> {graf [node]}\")\n",
        "\n",
        "print_graph(graph)"
      ],
      "metadata": {
        "colab": {
          "base_uri": "https://localhost:8080/"
        },
        "id": "I4pXld-DvyNR",
        "outputId": "14211e1b-1a0b-40d0-a530-c588f0503ee3"
      },
      "execution_count": 1,
      "outputs": [
        {
          "output_type": "stream",
          "name": "stdout",
          "text": [
            "A -> ['B', 'C']\n",
            "B -> ['A', 'D', 'E']\n",
            "C -> ['A', 'F']\n",
            "D -> ['B']\n",
            "E -> ['B', 'F']\n",
            "F -> ['C', 'E']\n"
          ]
        }
      ]
    },
    {
      "cell_type": "code",
      "source": [
        "from collections import deque\n",
        "def bfs(graph, start):\n",
        "  visited = set()\n",
        "  queue = deque ([start])\n",
        "\n",
        "  while queue:\n",
        "    vertex = queue.popleft()\n",
        "    if vertex not in visited:\n",
        "      print(vertex, end=\" \")\n",
        "      visited.add(vertex)\n",
        "      queue.extend([neighbor for neighbor in graph[vertex] if neighbor\n",
        "not in visited])\n",
        "# Contoh pemanggilan\n",
        "bfs(graph, 'A')\n"
      ],
      "metadata": {
        "colab": {
          "base_uri": "https://localhost:8080/"
        },
        "id": "S7g2HVRXwTfu",
        "outputId": "6f181f34-3e95-4f74-d6ab-40bb2455aea3"
      },
      "execution_count": 2,
      "outputs": [
        {
          "output_type": "stream",
          "name": "stdout",
          "text": [
            "A B C D E F "
          ]
        }
      ]
    },
    {
      "cell_type": "code",
      "source": [
        "def dfs(graph, start, visited=None):\n",
        "  if visited is None:\n",
        "    visited = set ()\n",
        "\n",
        "  if start not in visited:\n",
        "    print(start, end=\" \")\n",
        "    visited.add(start)\n",
        "    for neighbor in graph[start]:\n",
        "      dfs (graph, neighbor, visited)\n",
        "# Contoh pemanggilan\n",
        "dfs(graph, 'A')"
      ],
      "metadata": {
        "colab": {
          "base_uri": "https://localhost:8080/"
        },
        "id": "6OlHz_IXwrSO",
        "outputId": "0ac94272-aea3-4bd2-fa80-03ef958596bf"
      },
      "execution_count": 3,
      "outputs": [
        {
          "output_type": "stream",
          "name": "stdout",
          "text": [
            "A B D E F C "
          ]
        }
      ]
    },
    {
      "cell_type": "code",
      "source": [
        "# Lengkapi fungsi untuk menghitung jumlah tetangga dari tiap simpul dalam graf\n",
        "def count_neighbors (graph):\n",
        "  result = {}\n",
        "  for node in graph:\n",
        "    # TODO: Hitung jumlah tetangga\n",
        "    pass\n",
        "  return result\n"
      ],
      "metadata": {
        "id": "Lfkng23nxAPl"
      },
      "execution_count": 4,
      "outputs": []
    },
    {
      "cell_type": "code",
      "source": [
        "def count_neighbors(graph):\n",
        "    result = {}\n",
        "    for node in graph:\n",
        "        result[node] = len(graph[node])  # Menghitung jumlah tetangga\n",
        "    return result\n",
        "graph = {\n",
        "    'A': ['B', 'C'],\n",
        "    'B': ['A'],\n",
        "    'C': ['A'],\n",
        "    'D': []\n",
        "}\n",
        "print(count_neighbors(graph))\n"
      ],
      "metadata": {
        "colab": {
          "base_uri": "https://localhost:8080/"
        },
        "id": "CZMgng2NzVSw",
        "outputId": "876f2504-f833-4feb-a052-c6d91e291eab"
      },
      "execution_count": 5,
      "outputs": [
        {
          "output_type": "stream",
          "name": "stdout",
          "text": [
            "{'A': 2, 'B': 1, 'C': 1, 'D': 0}\n"
          ]
        }
      ]
    }
  ]
}